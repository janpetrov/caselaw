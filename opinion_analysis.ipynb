{
 "cells": [
  {
   "cell_type": "markdown",
   "metadata": {},
   "source": [
    "# Opinion Analysis"
   ]
  },
  {
   "cell_type": "markdown",
   "metadata": {},
   "source": [
    "## Initialize and import"
   ]
  },
  {
   "cell_type": "code",
   "execution_count": null,
   "metadata": {},
   "outputs": [],
   "source": [
    "%load_ext autoreload\n",
    "%autoreload\n",
    "\n",
    "import json\n",
    "from pathlib import Path\n",
    "\n",
    "import dotenv\n",
    "import pandas as pd\n",
    "\n",
    "from src.apis.anthropic import claude_infer\n",
    "from src.supreme_court import get_sc_data\n",
    "from src.token_count import analyze_corpus_tokens\n",
    "\n",
    "dotenv.load_dotenv()\n",
    "\n",
    "SC_PATH = Path(\"data\") / \"sc_opinions.json\"\n",
    "sc_df = get_sc_data(SC_PATH)\n",
    "\n",
    "CC_PATH = Path(\"data\") / \"NALUS.json\"\n",
    "cc_df = pd.read_json(CC_PATH)"
   ]
  },
  {
   "cell_type": "markdown",
   "metadata": {},
   "source": [
    "## Compute tokens"
   ]
  },
  {
   "cell_type": "code",
   "execution_count": null,
   "metadata": {},
   "outputs": [],
   "source": [
    "print(f\"Supreme court ({len(sc_df)} cases):\")\n",
    "analyze_corpus_tokens(sc_df.text.tolist())\n",
    "\n",
    "print(f\"\\nConstitutional court ({len(cc_df)} cases):\")\n",
    "analyze_corpus_tokens(cc_df.text.tolist())"
   ]
  },
  {
   "cell_type": "markdown",
   "metadata": {},
   "source": [
    "## Templates"
   ]
  },
  {
   "cell_type": "code",
   "execution_count": null,
   "metadata": {},
   "outputs": [],
   "source": [
    "from src.templates import render_template\n",
    "\n",
    "TEMPLATE_NAME = \"extract_acts_02.jinja2\"\n",
    "\n",
    "rendered = render_template(TEMPLATE_NAME, court_opinion=sc_df.iloc[0].text)"
   ]
  },
  {
   "cell_type": "code",
   "execution_count": null,
   "metadata": {},
   "outputs": [],
   "source": [
    "%load_ext autoreload\n",
    "%autoreload\n",
    "\n",
    "from src.apis.google import gemini_infer\n",
    "from src.filter_references import extract_section_numbers, filter_civil_code_references\n",
    "\n",
    "result_raw = gemini_infer(rendered, top_k=1)\n",
    "result_parsed = json.loads(result_raw)\n",
    "result_filtered = filter_civil_code_references(result_parsed)\n",
    "print(result_filtered)"
   ]
  },
  {
   "cell_type": "code",
   "execution_count": null,
   "metadata": {},
   "outputs": [],
   "source": [
    "extract_section_numbers(result_filtered)"
   ]
  },
  {
   "cell_type": "markdown",
   "metadata": {},
   "source": [
    "## Test inference"
   ]
  },
  {
   "cell_type": "markdown",
   "metadata": {},
   "source": [
    "### Gemini"
   ]
  },
  {
   "cell_type": "code",
   "execution_count": null,
   "metadata": {},
   "outputs": [],
   "source": [
    "from src.apis.google import gemini_infer\n",
    "\n",
    "gemini_infer(\"napiš mi českou básničku, musí se rýmovat\")"
   ]
  },
  {
   "cell_type": "markdown",
   "metadata": {},
   "source": [
    "### OpenAI"
   ]
  },
  {
   "cell_type": "code",
   "execution_count": null,
   "metadata": {},
   "outputs": [],
   "source": [
    "from src.apis.openai import openai_infer\n",
    "\n",
    "\n",
    "print(openai_infer(\"Napiš mi básničku. Musí se rýmovat.\", mini=False))"
   ]
  }
 ],
 "metadata": {
  "kernelspec": {
   "display_name": "env",
   "language": "python",
   "name": "python3"
  },
  "language_info": {
   "codemirror_mode": {
    "name": "ipython",
    "version": 3
   },
   "file_extension": ".py",
   "mimetype": "text/x-python",
   "name": "python",
   "nbconvert_exporter": "python",
   "pygments_lexer": "ipython3",
   "version": "3.12.9"
  }
 },
 "nbformat": 4,
 "nbformat_minor": 2
}
