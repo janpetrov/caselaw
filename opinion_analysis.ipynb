{
 "cells": [
  {
   "cell_type": "markdown",
   "metadata": {},
   "source": [
    "# Opinion Analysis"
   ]
  },
  {
   "cell_type": "markdown",
   "metadata": {},
   "source": [
    "## Initialize and import"
   ]
  },
  {
   "cell_type": "code",
   "execution_count": 107,
   "metadata": {},
   "outputs": [],
   "source": [
    "%load_ext autoreload\n",
    "%autoreload 2\n",
    "\n",
    "from pathlib import Path\n",
    "\n",
    "import dotenv\n",
    "import pandas as pd\n",
    "\n",
    "from src.apis.common import is_invalid_json, run_inference_parallel_with_retry\n",
    "from src.apis.google import gemini_infer\n",
    "from src.apis.openai import openai_infer\n",
    "from src.filter_references import process_raw_results\n",
    "from src.load_court_data import load_sc_data\n",
    "from src.templates import render_template\n",
    "from src.token_count import analyze_corpus_tokens\n",
    "\n",
    "dotenv.load_dotenv()\n",
    "\n",
    "TEMPLATE_NAME = \"extract_acts_03.jinja2\"\n",
    "\n",
    "SC_PATH = Path(\"data\") / \"sc_opinions.json\"\n",
    "sc_df = load_sc_data(SC_PATH)\n",
    "\n",
    "CC_PATH = Path(\"data\") / \"NALUS.json\"\n",
    "cc_df = pd.read_json(CC_PATH)"
   ]
  },
  {
   "cell_type": "code",
   "execution_count": null,
   "metadata": {},
   "outputs": [],
   "source": [
    "from src.apis.fireworks import fireworks_infer\n",
    "\n",
    "response = fireworks_infer(\"heollo\")"
   ]
  },
  {
   "cell_type": "code",
   "execution_count": 15,
   "metadata": {},
   "outputs": [],
   "source": [
    "response.json()[\"choices\"][0][\"message\"][\"content\"]"
   ]
  },
  {
   "cell_type": "markdown",
   "metadata": {},
   "source": [
    "## Compute tokens"
   ]
  },
  {
   "cell_type": "code",
   "execution_count": null,
   "metadata": {},
   "outputs": [],
   "source": [
    "print(f\"Supreme court ({len(sc_df)} cases):\")\n",
    "analyze_corpus_tokens(sc_df.text.tolist())\n",
    "\n",
    "print(f\"\\nConstitutional court ({len(cc_df)} cases):\")\n",
    "analyze_corpus_tokens(cc_df.text.tolist())"
   ]
  },
  {
   "cell_type": "markdown",
   "metadata": {},
   "source": [
    "## Check extraction"
   ]
  },
  {
   "cell_type": "markdown",
   "metadata": {},
   "source": [
    "### Sample and get results"
   ]
  },
  {
   "cell_type": "code",
   "execution_count": 2,
   "metadata": {},
   "outputs": [],
   "source": [
    "# Filter to keep only rows where numbers has at least one item\n",
    "sample_100 = sc_df[sc_df.numbers.apply(len) > 0].sample(100, random_state=42)\n",
    "texts_100 = sample_100.text.tolist()\n",
    "numbers_100 = sample_100.numbers.tolist()\n",
    "\n",
    "templatize_100 = [\n",
    "    render_template(TEMPLATE_NAME, court_opinion=text) for text in texts_100\n",
    "]\n",
    "\n",
    "results_raw = run_inference_parallel_with_retry(templatize_100, gemini_infer)"
   ]
  },
  {
   "cell_type": "markdown",
   "metadata": {},
   "source": [
    "### Check wrong JSON parsing"
   ]
  },
  {
   "cell_type": "markdown",
   "metadata": {},
   "source": [
    "After multiple checks, Gemini Flash performs better than GPT-4o mini. GPT-4o mini frequently omitted paragraph numbers. The issue remained even after prompt engineering.\n",
    "\n",
    "Gemini Flash 2.0. initially had an issue with infinite repetition. This occured frequently with temperature = 0.1 or 0.0 or top_k = 1. With temperature 1.0, the issue happened from time to time only. Lower top_p does not work either.\n",
    "\n",
    "I could not see improved accuracy with lower temperatures."
   ]
  },
  {
   "cell_type": "code",
   "execution_count": 3,
   "metadata": {},
   "outputs": [],
   "source": [
    "for i, result in enumerate(results_raw):\n",
    "    if is_invalid_json(result):\n",
    "        print(i)"
   ]
  },
  {
   "cell_type": "markdown",
   "metadata": {},
   "source": [
    "### Check parsed paragraph numbers"
   ]
  },
  {
   "cell_type": "code",
   "execution_count": 5,
   "metadata": {},
   "outputs": [],
   "source": [
    "processed = process_raw_results(results_raw)  # type: ignore\n",
    "\n",
    "for i, (numbers, result) in enumerate(zip(numbers_100, processed, strict=True)):\n",
    "    if set(numbers) <= set(result):\n",
    "        continue\n",
    "    missing = set(numbers) - set(result)\n",
    "    if all(str(m) not in sample_100.iloc[i].text for m in missing):\n",
    "        continue\n",
    "\n",
    "    print()\n",
    "    print(i, numbers, result, missing)\n",
    "    print(sample_100.iloc[i].permanent_link)"
   ]
  },
  {
   "cell_type": "markdown",
   "metadata": {},
   "source": [
    "## Just do it"
   ]
  },
  {
   "cell_type": "markdown",
   "metadata": {},
   "source": [
    "## Review"
   ]
  },
  {
   "cell_type": "code",
   "execution_count": 17,
   "metadata": {},
   "outputs": [],
   "source": [
    "cc_df"
   ]
  }
 ],
 "metadata": {
  "kernelspec": {
   "display_name": "Python 3 (ipykernel)",
   "language": "python",
   "name": "python3"
  }
 },
 "nbformat": 4,
 "nbformat_minor": 2
}
