{
 "cells": [
  {
   "cell_type": "markdown",
   "metadata": {},
   "source": [
    "# Opinion Analysis"
   ]
  },
  {
   "cell_type": "markdown",
   "metadata": {},
   "source": [
    "## Initialize and import"
   ]
  },
  {
   "cell_type": "code",
   "execution_count": null,
   "metadata": {},
   "outputs": [],
   "source": [
    "%load_ext autoreload\n",
    "%autoreload\n",
    "\n",
    "import json\n",
    "from pathlib import Path\n",
    "\n",
    "import dotenv\n",
    "import jinja2\n",
    "import pandas as pd\n",
    "\n",
    "from src.apis.anthropic import claude_infer\n",
    "from src.supreme_court import get_sc_data\n",
    "from src.token_count import analyze_corpus_tokens\n",
    "\n",
    "dotenv.load_dotenv()\n",
    "\n",
    "SC_PATH = Path(\"data\") / \"sc_opinions.json\"\n",
    "sc_df = get_sc_data(SC_PATH)\n",
    "\n",
    "CC_PATH = Path(\"data\") / \"NALUS.json\"\n",
    "cc_df = pd.read_json(CC_PATH)"
   ]
  },
  {
   "cell_type": "markdown",
   "metadata": {},
   "source": [
    "## Compute tokens"
   ]
  },
  {
   "cell_type": "code",
   "execution_count": null,
   "metadata": {},
   "outputs": [],
   "source": [
    "print(f\"Supreme court ({len(sc_df)} cases):\")\n",
    "analyze_corpus_tokens(sc_df.text.tolist())\n",
    "\n",
    "print(f\"\\nConstitutional court ({len(cc_df)} cases):\")\n",
    "analyze_corpus_tokens(cc_df.text.tolist())"
   ]
  },
  {
   "cell_type": "markdown",
   "metadata": {},
   "source": [
    "## Templates"
   ]
  },
  {
   "cell_type": "code",
   "execution_count": null,
   "metadata": {},
   "outputs": [],
   "source": [
    "template_name = \"extract_acts_02.jinja2\"\n",
    "template_path = Path(\"templates\") / template_name\n",
    "template_str = template_path.read_text()\n",
    "template = jinja2.Template(template_str)"
   ]
  },
  {
   "cell_type": "code",
   "execution_count": null,
   "metadata": {},
   "outputs": [],
   "source": [
    "rendered = template.render(court_opinion=sc_df.iloc[0].text)\n",
    "\n",
    "result = claude_infer(rendered, top_k=1)\n",
    "print(result)"
   ]
  },
  {
   "cell_type": "code",
   "execution_count": null,
   "metadata": {},
   "outputs": [],
   "source": [
    "result_parsed = json.loads(result)"
   ]
  },
  {
   "cell_type": "code",
   "execution_count": null,
   "metadata": {},
   "outputs": [],
   "source": [
    "import itertools\n",
    "import re\n",
    "\n",
    "\n",
    "def is_civil_code_reference(item):\n",
    "    NEEDLES = \"89/2012\", \"o. z.\", \"o.z.\"\n",
    "    return any(needle in item.lower() for needle in NEEDLES) or re.search(\n",
    "        r\"občansk\\w*\\s+zákon\\w*\", item, re.IGNORECASE\n",
    "    )\n",
    "\n",
    "\n",
    "def filter_civil_code_references(items):\n",
    "    predicates = [is_civil_code_reference(item) for item in items]\n",
    "    return list(itertools.compress(items, predicates))\n",
    "\n",
    "\n",
    "filtered = filter_civil_code_references(result_parsed)"
   ]
  },
  {
   "cell_type": "code",
   "execution_count": null,
   "metadata": {},
   "outputs": [],
   "source": [
    "from typing import Iterable\n",
    "\n",
    "\n",
    "def extract_section_number(text: str):\n",
    "    match = re.search(r'§\\s*(\\d+)', text)\n",
    "    if match:\n",
    "        return int(match.group(1))\n",
    "    return None\n",
    "  "
   ]
  },
  {
   "cell_type": "code",
   "execution_count": null,
   "metadata": {},
   "outputs": [],
   "source": [
    "[extract_section_number(item) for item in filtered]"
   ]
  },
  {
   "cell_type": "markdown",
   "metadata": {},
   "source": [
    "## Gemini"
   ]
  },
  {
   "cell_type": "code",
   "execution_count": null,
   "metadata": {},
   "outputs": [],
   "source": [
    "import base64\n",
    "import os\n",
    "from google import genai\n",
    "from google.genai import types\n",
    "\n",
    "\n",
    "def generate(text):\n",
    "    client = genai.Client(\n",
    "        api_key=os.environ.get(\"GEMINI_API_KEY\"),\n",
    "    )\n",
    "\n",
    "    model = \"gemini-2.0-flash\"\n",
    "    contents = [\n",
    "        types.Content(\n",
    "            role=\"user\",\n",
    "            parts=[\n",
    "                types.Part.from_text(text=text),\n",
    "            ],\n",
    "        ),\n",
    "    ]\n",
    "    generate_content_config = types.GenerateContentConfig(\n",
    "        temperature=1,\n",
    "        top_p=0.95,\n",
    "        top_k=40,\n",
    "        max_output_tokens=8192,\n",
    "        response_mime_type=\"text/plain\",\n",
    "    )\n",
    "\n",
    "    for chunk in client.models.generate_content_stream(\n",
    "        model=model,\n",
    "        contents=contents,\n",
    "        config=generate_content_config,\n",
    "    ):\n",
    "        print(chunk.text, end=\"\")\n",
    "\n",
    "\n",
    "generate(\"napiš mi českou básničku, musí se rýmovat\")"
   ]
  },
  {
   "cell_type": "markdown",
   "metadata": {},
   "source": [
    "## OpenAI"
   ]
  },
  {
   "cell_type": "code",
   "execution_count": null,
   "metadata": {},
   "outputs": [],
   "source": [
    "from openai import OpenAI\n",
    "\n",
    "\n",
    "def openai_infer(\n",
    "    text: str,\n",
    "    max_tokens: int = 4000,\n",
    "    temperature: float = 1,\n",
    "    mini: bool = False\n",
    ") -> str:\n",
    "    client = OpenAI()\n",
    "    completion = client.chat.completions.create(\n",
    "        model=\"gpt-4o-mini\" if mini else \"gpt-4\",\n",
    "        max_tokens=max_tokens,\n",
    "        temperature=temperature,\n",
    "        messages=[{\n",
    "            \"role\": \"user\",\n",
    "            \"content\": text\n",
    "        }]\n",
    "    )\n",
    "    return completion.choices[0].message.content\n",
    "\n",
    "\n",
    "print(openai_infer(\"Napiš mi básničku. Musí se rýmovat.\", mini=False))"
   ]
  }
 ],
 "metadata": {
  "kernelspec": {
   "display_name": "env",
   "language": "python",
   "name": "python3"
  },
  "language_info": {
   "codemirror_mode": {
    "name": "ipython",
    "version": 3
   },
   "file_extension": ".py",
   "mimetype": "text/x-python",
   "name": "python",
   "nbconvert_exporter": "python",
   "pygments_lexer": "ipython3",
   "version": "3.12.9"
  }
 },
 "nbformat": 4,
 "nbformat_minor": 2
}
